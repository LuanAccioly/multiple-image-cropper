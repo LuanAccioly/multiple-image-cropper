{
 "cells": [
  {
   "cell_type": "code",
   "execution_count": 1,
   "metadata": {},
   "outputs": [],
   "source": [
    "import os\n",
    "import numpy as np\n",
    "import cv2\n",
    "from matplotlib import pyplot as plt"
   ]
  },
  {
   "cell_type": "code",
   "execution_count": 2,
   "metadata": {},
   "outputs": [],
   "source": [
    "def read_yolo_coordinates(file_path, img_width, img_height):\n",
    "    coordinates = []\n",
    "    with open(file_path, \"r\") as file:\n",
    "        lines = file.readlines()\n",
    "        for line in lines:\n",
    "            class_index, x_center, y_center, width, height = map(float, line.split())\n",
    "            x_min = int((x_center - width / 2) * img_width)\n",
    "            y_min = int((y_center - height / 2) * img_height)\n",
    "            x_max = int((x_center + width / 2) * img_width)\n",
    "            y_max = int((y_center + height / 2) * img_height)\n",
    "            coordinates.append((x_min, y_min, x_max, y_max))\n",
    "    return coordinates"
   ]
  },
  {
   "cell_type": "code",
   "execution_count": 3,
   "metadata": {},
   "outputs": [],
   "source": [
    "def crop_questions(image_name):\n",
    "    cropped_questions_path = \"content/cropped_questions/\"\n",
    "    full_images_path = \"content/full_images/\"\n",
    "    full_images_notation_path = \"content/yolo_coordinates/questions/\"\n",
    "\n",
    "    image_path = full_images_path + image_name + \".jpg\"\n",
    "    yolo_coordinates_path = full_images_notation_path + image_name + \".txt\"\n",
    "\n",
    "    images = []\n",
    "    image = cv2.imread(image_path)\n",
    "    image\n",
    "    img_height, img_width, _ = image.shape\n",
    "    yolo_coordinates = read_yolo_coordinates(\n",
    "        yolo_coordinates_path, img_width, img_height\n",
    "    )\n",
    "\n",
    "    for i, (x_min, y_min, x_max, y_max) in enumerate(yolo_coordinates):\n",
    "        cropped_img = image[y_min:y_max, x_min:x_max]\n",
    "        images.append(cropped_img)\n",
    "        cv2.imwrite(f\"{cropped_questions_path}{image_name}_{i+1}.jpg\", cropped_img)\n",
    "    return images"
   ]
  },
  {
   "cell_type": "code",
   "execution_count": 4,
   "metadata": {},
   "outputs": [],
   "source": [
    "def remove_extension(files):\n",
    "    file_names = []\n",
    "\n",
    "    for file in files:\n",
    "        file_name = file.split(\".\")[0]\n",
    "        file_names.append(file_name)\n",
    "\n",
    "    return file_names"
   ]
  },
  {
   "cell_type": "code",
   "execution_count": 6,
   "metadata": {},
   "outputs": [],
   "source": [
    "if __name__ == \"__main__\":\n",
    "    full_images_path = remove_extension(\n",
    "        [file for file in os.listdir(\"content/full_images/\") if \".gitkeep\" not in file]\n",
    "    )\n",
    "\n",
    "    for image_name in full_images_path:\n",
    "        crop_questions(image_name)"
   ]
  }
 ],
 "metadata": {
  "kernelspec": {
   "display_name": "Python 3",
   "language": "python",
   "name": "python3"
  },
  "language_info": {
   "codemirror_mode": {
    "name": "ipython",
    "version": 3
   },
   "file_extension": ".py",
   "mimetype": "text/x-python",
   "name": "python",
   "nbconvert_exporter": "python",
   "pygments_lexer": "ipython3",
   "version": "3.11.8"
  }
 },
 "nbformat": 4,
 "nbformat_minor": 2
}
