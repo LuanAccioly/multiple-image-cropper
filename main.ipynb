{
 "cells": [
  {
   "cell_type": "code",
   "execution_count": 1,
   "metadata": {},
   "outputs": [],
   "source": [
    "import os\n",
    "import numpy as np\n",
    "import cv2\n",
    "from matplotlib import pyplot as plt"
   ]
  },
  {
   "cell_type": "code",
   "execution_count": 2,
   "metadata": {},
   "outputs": [],
   "source": [
    "def read_yolo_coordinates(file_path, img_width, img_height):\n",
    "    coordinates = []\n",
    "    with open(file_path, \"r\") as file:\n",
    "        lines = file.readlines()\n",
    "        for line in lines:\n",
    "            class_index, x_center, y_center, width, height = map(float, line.split())\n",
    "            x_min = int((x_center - width / 2) * img_width)\n",
    "            y_min = int((y_center - height / 2) * img_height)\n",
    "            x_max = int((x_center + width / 2) * img_width)\n",
    "            y_max = int((y_center + height / 2) * img_height)\n",
    "            coordinates.append((x_min, y_min, x_max, y_max))\n",
    "    return coordinates"
   ]
  },
  {
   "cell_type": "code",
   "execution_count": 3,
   "metadata": {},
   "outputs": [],
   "source": [
    "def normalize_coordinates(x, y, width, height, questao_coords):\n",
    "    # Obter as coordenadas da QUESTÃO\n",
    "    x_questao, y_questao, width_questao, height_questao = questao_coords\n",
    "\n",
    "    # Ajustar coordenadas para estar na escala da QUESTÃO\n",
    "    x_adjusted = (x - x_questao) / width_questao\n",
    "    y_adjusted = (y - y_questao) / height_questao\n",
    "    width_adjusted = width / width_questao\n",
    "    height_adjusted = height / height_questao\n",
    "\n",
    "    return x_adjusted, y_adjusted, width_adjusted, height_adjusted"
   ]
  },
  {
   "cell_type": "code",
   "execution_count": 4,
   "metadata": {},
   "outputs": [],
   "source": [
    "def crop_questions(image_name):\n",
    "    cropped_questions_path = \"content/cropped_questions/\"\n",
    "    full_images_path = \"content/full_images/\"\n",
    "    full_images_notation_path = \"content/yolo_coordinates/questions/\"\n",
    "\n",
    "    image_path = full_images_path + image_name + \".jpg\"\n",
    "    yolo_coordinates_path = full_images_notation_path + image_name + \".txt\"\n",
    "\n",
    "    images = []\n",
    "    image = cv2.imread(image_path)\n",
    "    image\n",
    "    img_height, img_width, _ = image.shape\n",
    "    yolo_coordinates = read_yolo_coordinates(\n",
    "        yolo_coordinates_path, img_width, img_height\n",
    "    )\n",
    "\n",
    "    for i, (x_min, y_min, x_max, y_max) in enumerate(yolo_coordinates):\n",
    "        cropped_img = image[y_min:y_max, x_min:x_max]\n",
    "        images.append(cropped_img)\n",
    "        cv2.imwrite(f\"{cropped_questions_path}{image_name}_{i+1}.jpg\", cropped_img)\n",
    "    return images"
   ]
  },
  {
   "cell_type": "code",
   "execution_count": 5,
   "metadata": {},
   "outputs": [],
   "source": [
    "def remove_extension(files):\n",
    "    file_names = []\n",
    "\n",
    "    for file in files:\n",
    "        file_name = file.split(\".\")[0]\n",
    "        file_names.append(file_name)\n",
    "\n",
    "    return file_names"
   ]
  },
  {
   "cell_type": "code",
   "execution_count": 11,
   "metadata": {},
   "outputs": [],
   "source": [
    "# def read_coordinates_from_file(file_path):\n",
    "#     questions_coordinates = open(\"content/yolo_coordinates/questions/teste.txt\", \"x\")\n",
    "#     with open(file_path, \"r\") as file:\n",
    "#         lines = file.readlines()\n",
    "#         questao_coords = None\n",
    "#         for line in lines:\n",
    "#             values = line.strip().split()\n",
    "#             class_id = int(values[0])\n",
    "#             if class_id == 5:  # Se for uma nova QUESTÃO\n",
    "#                 questions_coordinates.write(line)\n",
    "\n",
    "#     questions_coordinates.close()"
   ]
  },
  {
   "cell_type": "code",
   "execution_count": null,
   "metadata": {},
   "outputs": [],
   "source": [
    "def read_coordinates_from_file(file_path):\n",
    "    questions_coordinates = open(\"content/yolo_coordinates/questions/teste.txt\", \"x\")\n",
    "    with open(file_path, \"r\") as file:\n",
    "        lines = file.readlines()\n",
    "        another_question = False\n",
    "        question_index = 0\n",
    "        for line in lines:\n",
    "            values = line.strip().split()\n",
    "            class_id = int(values[0])\n",
    "            if class_id == 5:  # Se for uma nova QUESTÃO\n",
    "                questions_coordinates.write(line)\n",
    "                another_question = True\n",
    "                question_index += 1\n",
    "            else:\n",
    "                if another_question:\n",
    "                    equations_coordinates = open(\n",
    "                        f\"content/yolo_coordinates/{question_index}.txt\", \"x\"\n",
    "                    )\n",
    "                    equations_coordinates.write(line)\n",
    "                    another_question = False\n",
    "                else:\n",
    "                    equations_coordinates = open(\n",
    "                        f\"content/yolo_coordinates/{question_index}.txt\", \"a\"\n",
    "                    )\n",
    "                    equations_coordinates.write(line)\n",
    "\n",
    "    questions_coordinates.close()"
   ]
  },
  {
   "cell_type": "code",
   "execution_count": null,
   "metadata": {},
   "outputs": [],
   "source": [
    "def read_coordinates_from_file(file_path):\n",
    "    with open(file_path, \"r\") as file:\n",
    "        lines = file.readlines()\n",
    "        another_question = False\n",
    "        question_index = 0\n",
    "        for line in lines:\n",
    "            values = line.strip().split()\n",
    "            class_id = int(values[0])\n",
    "            if class_id == 5:  # Se for uma nova QUESTÃO\n",
    "                if another_question:\n",
    "                    equations_coordinates.close()\n",
    "                question_index += 1\n",
    "                equations_coordinates = open(\n",
    "                    f\"content/yolo_coordinates/questions/question_{question_index}.txt\",\n",
    "                    \"w\",\n",
    "                )\n",
    "                questions_coordinates.write(line)\n",
    "                another_question = True\n",
    "            else:\n",
    "                equations_coordinates.write(line)\n",
    "\n",
    "    equations_coordinates.close()"
   ]
  },
  {
   "cell_type": "code",
   "execution_count": 12,
   "metadata": {},
   "outputs": [],
   "source": [
    "if __name__ == \"__main__\":\n",
    "    # full_images_path = remove_extension(\n",
    "    #     [file for file in os.listdir(\"content/full_images/\") if \".gitkeep\" not in file]\n",
    "    # )\n",
    "\n",
    "    # for image_name in full_images_path:\n",
    "    #     crop_questions(image_name)\n",
    "    read_coordinates_from_file(\"content/yolo_coordinates/teste.txt\")"
   ]
  }
 ],
 "metadata": {
  "kernelspec": {
   "display_name": "Python 3",
   "language": "python",
   "name": "python3"
  },
  "language_info": {
   "codemirror_mode": {
    "name": "ipython",
    "version": 3
   },
   "file_extension": ".py",
   "mimetype": "text/x-python",
   "name": "python",
   "nbconvert_exporter": "python",
   "pygments_lexer": "ipython3",
   "version": "3.12.3"
  }
 },
 "nbformat": 4,
 "nbformat_minor": 2
}
